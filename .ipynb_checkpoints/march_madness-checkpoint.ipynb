{
 "cells": [
  {
   "cell_type": "code",
   "execution_count": 1,
   "metadata": {
    "collapsed": false
   },
   "outputs": [
    {
     "name": "stdout",
     "output_type": "stream",
     "text": [
      "Hello World\n"
     ]
    }
   ],
   "source": [
    "import pandas\n",
    "print(\"Hello World\")"
   ]
  },
  {
   "cell_type": "code",
   "execution_count": 2,
   "metadata": {
    "collapsed": false
   },
   "outputs": [],
   "source": [
    "teams_data = pandas.read_csv(\"kaggle_data/Teams.csv\")\n",
    "reg_season_detail = pandas.read_csv(\"kaggle_data/RegularSeasonDetailedResults.csv\")\n",
    "seasons_data = pandas.read_csv(\"kaggle_data/Seasons.csv\")\n",
    "tourney_compact = pandas.read_csv(\"kaggle_data/TourneyCompactResults.csv\")\n",
    "tourney_detail = pandas.read_csv(\"kaggle_data/TourneyDetailedResults.csv\")\n",
    "tourney_seeds = pandas.read_csv(\"kaggle_data/TourneySeeds.csv\")\n",
    "tourney_slots = pandas.read_csv(\"kaggle_data/TourneySlots.csv\")"
   ]
  },
  {
   "cell_type": "raw",
   "metadata": {},
   "source": []
  },
  {
   "cell_type": "code",
   "execution_count": 6,
   "metadata": {
    "collapsed": false
   },
   "outputs": [
    {
     "data": {
      "text/plain": [
       "Index(['Season', 'Daynum', 'Wteam', 'Wscore', 'Lteam', 'Lscore', 'Wloc',\n",
       "       'Numot', 'Wfgm', 'Wfga', 'Wfgm3', 'Wfga3', 'Wftm', 'Wfta', 'Wor', 'Wdr',\n",
       "       'Wast', 'Wto', 'Wstl', 'Wblk', 'Wpf', 'Lfgm', 'Lfga', 'Lfgm3', 'Lfga3',\n",
       "       'Lftm', 'Lfta', 'Lor', 'Ldr', 'Last', 'Lto', 'Lstl', 'Lblk', 'Lpf'],\n",
       "      dtype='object')"
      ]
     },
     "execution_count": 6,
     "metadata": {},
     "output_type": "execute_result"
    }
   ],
   "source": [
    "tourney_detail.columns"
   ]
  },
  {
   "cell_type": "code",
   "execution_count": 34,
   "metadata": {
    "collapsed": true
   },
   "outputs": [],
   "source": [
    "# Headers of winning and losing team information\n",
    "winHeaders = ['Wteam', 'Wscore', 'Wfgm', 'Wfga', \n",
    "              'Wfgm3', 'Wfga3', 'Wftm', 'Wfta', 'Wor', \n",
    "             'Wdr', 'Wast', 'Wto', 'Wstl', 'Wblk', 'Wpf']\n",
    "\n",
    "lossHeaders = ['Lteam', 'Lscore', 'Lfgm', 'Lfga', \n",
    "               'Lfgm3', 'Lfga3','Lftm', 'Lfta', 'Lor', \n",
    "               'Ldr', 'Last', 'Lto', 'Lstl', 'Lblk', 'Lpf']"
   ]
  },
  {
   "cell_type": "code",
   "execution_count": 37,
   "metadata": {
    "collapsed": false
   },
   "outputs": [],
   "source": [
    "# Initialize the new dataframe\n",
    "df =  pandas.DataFrame(data=None, index=range(0, tourney_detail.shape[0]), \n",
    "            columns=['Ateam', 'Ascore', 'Afgm', 'Afga', \n",
    "              'Afgm3', 'Afga3', 'Aftm', 'Afta', 'Aor', \n",
    "             'Adr', 'Aast', 'Ato', 'Astl', 'Ablk', 'Apf', 'Bteam', 'Bscore', 'Bfgm', 'Bfga', \n",
    "              'Bfgm3', 'Bfga3', 'Bftm', 'Bfta', 'Bor', \n",
    "             'Bdr', 'Bast', 'Bto', 'Bstl', 'Bblk', 'Bpf', 'Awin'], dtype=None, copy=False)\n",
    "\n",
    "#Initialize Headers\n",
    "aHeaders = ['Ateam', 'Ascore', 'Afgm', 'Afga', 'Afgm3', \n",
    "            'Afga3', 'Aftm', 'Afta', 'Aor', 'Adr', 'Aast', \n",
    "            'Ato', 'Astl', 'Ablk', 'Apf']\n",
    "\n",
    "bHeaders = ['Bteam', 'Bscore', 'Bfgm', 'Bfga', \n",
    "              'Bfgm3', 'Bfga3', 'Bftm', 'Bfta', 'Bor', \n",
    "             'Bdr', 'Bast', 'Bto', 'Bstl', 'Bblk', 'Bpf']"
   ]
  },
  {
   "cell_type": "code",
   "execution_count": 38,
   "metadata": {
    "collapsed": false
   },
   "outputs": [
    {
     "data": {
      "text/plain": [
       "\"\\n\\n\\n\\n    \\n    df = df.loc[df['Year'].isin([2012, 2013, 2014, 2015])]\\n\""
      ]
     },
     "execution_count": 38,
     "metadata": {},
     "output_type": "execute_result"
    }
   ],
   "source": [
    "import numpy as np\n",
    "\n",
    "for i in range(0, tourney_detail.shape[0]):\n",
    "    # Random Int of 1 or 0 decides whether the winning team is team A or team B\n",
    "    if (np.random.randint(2)):\n",
    "        aInsertHeaders = winHeaders\n",
    "        bInsertHeaders = lossHeaders\n",
    "        df['Awin'][i] = 1\n",
    "    else:\n",
    "        aInsertHeaders = lossHeaders\n",
    "        bInsertHeaders = winHeaders\n",
    "        df['Awin'][i] = 0\n",
    "    \n",
    "    # Puts the team data in the appropriate location in the df\n",
    "    for j in range(0, len(aHeaders)):\n",
    "        df[aHeaders[j]][i] = tourney_detail[aInsertHeaders[j]][i]\n",
    "        df[bHeaders[j]][i] = tourney_detail[bInsertHeaders[j]][i]\n",
    "\n"
   ]
  },
  {
   "cell_type": "code",
   "execution_count": 44,
   "metadata": {
    "collapsed": false
   },
   "outputs": [
    {
     "name": "stdout",
     "output_type": "stream",
     "text": [
      "  Ateam Ascore Afgm Afga Afgm3 Afga3 Aftm Afta Aor Adr ...  Bftm Bfta Bor Bdr  \\\n",
      "0  1421     92   32   69    11    29   17   26  14  30 ...    14   31  17  28   \n",
      "1  1436     51   20   64     4    16    7    7   8  26 ...    11   14  11  36   \n",
      "2  1113     84   31   59     6    14   16   22  10  27 ...    14   21  20  22   \n",
      "3  1141     79   29   53     3     7   18   25  11  20 ...    12   17  14  17   \n",
      "4  1301     74   25   56     9    21   15   20  10  26 ...    15   23  18  20   \n",
      "\n",
      "  Bast Bto Bstl Bblk Bpf Awin  \n",
      "0   16  15    5    0  22    1  \n",
      "1   22  16   10    7   8    0  \n",
      "2   11  12    2    5  18    1  \n",
      "3   20  21    6    6  21    1  \n",
      "4   17  13    8    2  14    0  \n",
      "\n",
      "[5 rows x 31 columns]\n"
     ]
    }
   ],
   "source": [
    "print(df.head())"
   ]
  },
  {
   "cell_type": "code",
   "execution_count": 47,
   "metadata": {
    "collapsed": false
   },
   "outputs": [
    {
     "name": "stdout",
     "output_type": "stream",
     "text": [
      "0.947479867702\n"
     ]
    }
   ],
   "source": [
    "from sklearn.model_selection import cross_val_score\n",
    "from sklearn.ensemble import AdaBoostClassifier\n",
    "\n",
    "columns= ['Ateam', 'Ascore', 'Afgm', 'Afga', \n",
    "              'Afgm3', 'Afga3', 'Aftm', 'Afta', 'Aor', \n",
    "             'Adr', 'Aast', 'Ato', 'Astl', 'Ablk', 'Apf', 'Bteam', 'Bscore', 'Bfgm', 'Bfga', \n",
    "              'Bfgm3', 'Bfga3', 'Bftm', 'Bfta', 'Bor', \n",
    "             'Bdr', 'Bast', 'Bto', 'Bstl', 'Bblk', 'Bpf']\n",
    "\n",
    "clf = AdaBoostClassifier(n_estimators=100)\n",
    "\n",
    "Y = list(df[\"Awin\"].values)\n",
    "X = df[list(columns)].values\n",
    "clf = clf.fit(X, Y)\n",
    "scores = cross_val_score(clf, X, Y)\n",
    "print(scores.mean())"
   ]
  },
  {
   "cell_type": "code",
   "execution_count": null,
   "metadata": {
    "collapsed": true
   },
   "outputs": [],
   "source": []
  }
 ],
 "metadata": {
  "anaconda-cloud": {},
  "kernelspec": {
   "display_name": "Python [conda env:csc322622]",
   "language": "python",
   "name": "conda-env-csc322622-py"
  },
  "language_info": {
   "codemirror_mode": {
    "name": "ipython",
    "version": 3
   },
   "file_extension": ".py",
   "mimetype": "text/x-python",
   "name": "python",
   "nbconvert_exporter": "python",
   "pygments_lexer": "ipython3",
   "version": "3.5.2"
  }
 },
 "nbformat": 4,
 "nbformat_minor": 1
}
