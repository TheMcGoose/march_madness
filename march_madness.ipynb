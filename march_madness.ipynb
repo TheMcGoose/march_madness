{
 "cells": [
  {
   "cell_type": "code",
   "execution_count": 2,
   "metadata": {
    "collapsed": false
   },
   "outputs": [
    {
     "name": "stdout",
     "output_type": "stream",
     "text": [
      "Hello World\n"
     ]
    }
   ],
   "source": [
    "import pandas\n",
    "print(\"Hello World\")"
   ]
  },
  {
   "cell_type": "code",
   "execution_count": 11,
   "metadata": {
    "collapsed": false
   },
   "outputs": [],
   "source": [
    "teams_data = pandas.read_csv(\"kaggle_data/Teams.csv\")\n",
    "reg_season_detail = pandas.read_csv(\"kaggle_data/RegularSeasonDetailedResults.csv\")\n",
    "seasons_data = pandas.read_csv(\"kaggle_data/Seasons.csv\")\n",
    "tourney_compact = pandas.read_csv(\"kaggle_data/TourneyCompactResults.csv\")\n",
    "tourney_detail = pandas.read_csv(\"kaggle_data/TourneyDetailedResults.csv\")\n",
    "tourney_seeds = pandas.read_csv(\"kaggle_data/TourneySeeds.csv\")\n",
    "tourney_slots = pandas.read_csv(\"kaggle_data/TourneySlots.csv\")"
   ]
  },
  {
   "cell_type": "raw",
   "metadata": {},
   "source": [
    "teams_data.head()"
   ]
  },
  {
   "cell_type": "code",
   "execution_count": null,
   "metadata": {
    "collapsed": true
   },
   "outputs": [],
   "source": []
  }
 ],
 "metadata": {
  "anaconda-cloud": {},
  "kernelspec": {
   "display_name": "Python [conda env:csc322622]",
   "language": "python",
   "name": "conda-env-csc322622-py"
  },
  "language_info": {
   "codemirror_mode": {
    "name": "ipython",
    "version": 3
   },
   "file_extension": ".py",
   "mimetype": "text/x-python",
   "name": "python",
   "nbconvert_exporter": "python",
   "pygments_lexer": "ipython3",
   "version": "3.5.2"
  }
 },
 "nbformat": 4,
 "nbformat_minor": 1
}
